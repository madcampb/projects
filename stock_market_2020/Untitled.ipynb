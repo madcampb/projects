{
 "cells": [
  {
   "cell_type": "code",
   "execution_count": null,
   "id": "instrumental-awareness",
   "metadata": {},
   "outputs": [],
   "source": [
    "# market cap growth \n",
    "# profits \n",
    "# number of employees \n",
    "\n",
    "# https://fortune.com/fortune500/2020/search/\n",
    "# https://fortune.com/longform/fortune-500-companies-profits-compare-2020-chart-data/\n",
    "# https://markets.businessinsider.com/index/components/nasdaq_100"
   ]
  }
 ],
 "metadata": {
  "kernelspec": {
   "display_name": "Python 3",
   "language": "python",
   "name": "python3"
  },
  "language_info": {
   "codemirror_mode": {
    "name": "ipython",
    "version": 3
   },
   "file_extension": ".py",
   "mimetype": "text/x-python",
   "name": "python",
   "nbconvert_exporter": "python",
   "pygments_lexer": "ipython3",
   "version": "3.8.5"
  }
 },
 "nbformat": 4,
 "nbformat_minor": 5
}
