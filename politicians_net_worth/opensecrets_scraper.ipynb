{
 "cells": [
  {
   "cell_type": "code",
   "execution_count": 2,
   "id": "cathedral-celebration",
   "metadata": {},
   "outputs": [],
   "source": [
    "import pandas as pd\n",
    "import numpy as np\n",
    "import requests\n",
    "from bs4 import BeautifulSoup\n",
    "from datetime import datetime\n",
    "from selenium import webdriver\n",
    "from selenium.common.exceptions import NoSuchElementException\n",
    "import time\n",
    "import os"
   ]
  },
  {
   "cell_type": "code",
   "execution_count": 103,
   "id": "determined-diagram",
   "metadata": {},
   "outputs": [],
   "source": [
    "def make_url_list(first_url, min_year=2008, max_year=2018):\n",
    "\n",
    "    urls = [first_url]\n",
    "    base_url = first_url[:-4]\n",
    "\n",
    "    for i in range(min_year, max_year):\n",
    "        modified_url = base_url + str(i)\n",
    "        urls.append(modified_url)\n",
    "        \n",
    "    return(urls)"
   ]
  },
  {
   "cell_type": "code",
   "execution_count": 104,
   "id": "ranking-spoke",
   "metadata": {},
   "outputs": [],
   "source": [
    "def get_data(url):\n",
    "    \n",
    "    yr = url[-4:]\n",
    "\n",
    "    # This starts an instance of the Chrome browser to be controlled\n",
    "    # by the selenium webdriver\n",
    "    driver = webdriver.Chrome(executable_path='/Users/madelinecampbell/Desktop/chromedriver')\n",
    "    # driver = webdriver.Chrome()\n",
    "\n",
    "    # This is simply the driver getting the page\n",
    "    driver.get(url)\n",
    "\n",
    "\n",
    "    # url = 'https://www.opensecrets.org/personal-finances/top-net-worth?year=2018'\n",
    "    # page = requests.get(url)\n",
    "    soup = BeautifulSoup(driver.page_source,'html.parser')\n",
    "\n",
    "    rank_list = list()\n",
    "    names = list()\n",
    "    min_worths = list()\n",
    "    avg_worths = list()\n",
    "    max_worths = list()\n",
    "    chambers = list()\n",
    "\n",
    "\n",
    "    feedpost = soup.find('div', attrs={'class': 'l-primary'})\n",
    "\n",
    "    cards = feedpost.find_all('tr')\n",
    "    for card in cards[1:]:    \n",
    "        rank = card.find_all('td')[0].get_text()\n",
    "        rank_list.append(rank)\n",
    "        name = card.find('a').get_text()\n",
    "        names.append(name)\n",
    "        minw = card.find_all('td')[2].get_text()\n",
    "        min_worths.append(minw)\n",
    "        avgw = card.find_all('td')[3].get_text()\n",
    "        avg_worths.append(avgw)\n",
    "        maxw = card.find_all('td')[4].get_text()\n",
    "        max_worths.append(maxw)\n",
    "        ch = card.find_all('td')[5].get_text()\n",
    "        chambers.append(ch)\n",
    "\n",
    "    df = pd.DataFrame(list(zip(rank_list, names, min_worths, avg_worths, max_worths, chambers)), \n",
    "                           columns =['rank', 'name', 'min_worth', 'avg_worth', 'max_worth', 'chamber'])\n",
    "    df['year'] = yr\n",
    "    \n",
    "    return(df)"
   ]
  },
  {
   "cell_type": "code",
   "execution_count": 149,
   "id": "continent-right",
   "metadata": {},
   "outputs": [
    {
     "name": "stdout",
     "output_type": "stream",
     "text": [
      "https://www.opensecrets.org/personal-finances/top-net-worth?year=2018\n",
      "https://www.opensecrets.org/personal-finances/top-net-worth?year=2008\n",
      "https://www.opensecrets.org/personal-finances/top-net-worth?year=2009\n",
      "https://www.opensecrets.org/personal-finances/top-net-worth?year=2010\n",
      "https://www.opensecrets.org/personal-finances/top-net-worth?year=2011\n",
      "https://www.opensecrets.org/personal-finances/top-net-worth?year=2012\n",
      "https://www.opensecrets.org/personal-finances/top-net-worth?year=2013\n",
      "https://www.opensecrets.org/personal-finances/top-net-worth?year=2014\n",
      "https://www.opensecrets.org/personal-finances/top-net-worth?year=2015\n",
      "https://www.opensecrets.org/personal-finances/top-net-worth?year=2016\n",
      "https://www.opensecrets.org/personal-finances/top-net-worth?year=2017\n"
     ]
    }
   ],
   "source": [
    "url = 'https://www.opensecrets.org/personal-finances/top-net-worth?year=2018'\n",
    "\n",
    "urls = make_url_list(url, min_year=2008, max_year=2018)\n",
    "\n",
    "all_data = pd.DataFrame()\n",
    "\n",
    "for url in urls:\n",
    "    print(url)\n",
    "    page_data = get_data(url)\n",
    "    all_data = pd.concat([all_data, page_data])\n",
    "\n",
    "all_data.to_csv('/Users/madelinecampbell/Documents/GitHub/projects/politicians_net_worth/data/opensecrets.csv')\n"
   ]
  },
  {
   "cell_type": "code",
   "execution_count": 55,
   "id": "recreational-petroleum",
   "metadata": {},
   "outputs": [],
   "source": [
    "# link = driver.find_element_by_link_text('NEXT')\n",
    "# link.click()"
   ]
  },
  {
   "cell_type": "code",
   "execution_count": 36,
   "id": "soviet-preservation",
   "metadata": {},
   "outputs": [],
   "source": [
    "# This starts an instance of the Chrome browser to be controlled\n",
    "# by the selenium webdriver\n",
    "driver = webdriver.Chrome(executable_path='/Users/madelinecampbell/Desktop/chromedriver')\n",
    "# driver = webdriver.Chrome()\n",
    "\n",
    "# This is simply the driver getting the page\n",
    "driver.get(url)"
   ]
  },
  {
   "cell_type": "code",
   "execution_count": 48,
   "id": "violent-extent",
   "metadata": {},
   "outputs": [],
   "source": [
    "# # now I am searching id from new page\n",
    "# elem = driver.find_element_by_id('next')  #\n",
    "# elem.click()\n",
    "\n",
    "# # Locate the Search button\n",
    "# search_button = driver.find_element_by_xpath(\"//input[@name='paginate_button next']\")\n",
    "# # Click the button\n",
    "# search_button.click()\n",
    "\n",
    "# while True:\n",
    "#     next_page_btn = driver.find_elements_by_xpath(\"//li[@class = 'pagination_button next']/a\")\n",
    "#     if len(next_page_btn) < 1:\n",
    "#         print(\"No more pages left\")\n",
    "#         break\n",
    "#     else:\n",
    "#         print('new page')\n",
    "#         WebDriverWait(driver, 10).until(EC.element_to_be_clickable((By.LINK_TEXT, 'Next'))).click()\n",
    "\n",
    "link = driver.find_element_by_link_text('NEXT')\n",
    "link.click()"
   ]
  },
  {
   "cell_type": "code",
   "execution_count": null,
   "id": "operating-pressure",
   "metadata": {},
   "outputs": [],
   "source": []
  }
 ],
 "metadata": {
  "kernelspec": {
   "display_name": "Python 3",
   "language": "python",
   "name": "python3"
  },
  "language_info": {
   "codemirror_mode": {
    "name": "ipython",
    "version": 3
   },
   "file_extension": ".py",
   "mimetype": "text/x-python",
   "name": "python",
   "nbconvert_exporter": "python",
   "pygments_lexer": "ipython3",
   "version": "3.8.5"
  }
 },
 "nbformat": 4,
 "nbformat_minor": 5
}
