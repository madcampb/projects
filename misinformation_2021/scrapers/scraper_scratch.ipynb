{
 "cells": [
  {
   "cell_type": "code",
   "execution_count": 265,
   "id": "nutritional-chrome",
   "metadata": {},
   "outputs": [],
   "source": [
    "import pandas as pd\n",
    "import numpy as np\n",
    "import requests\n",
    "from bs4 import BeautifulSoup\n",
    "from datetime import datetime\n",
    "from selenium import webdriver\n",
    "from selenium.common.exceptions import NoSuchElementException\n",
    "import time\n",
    "import os"
   ]
  },
  {
   "cell_type": "markdown",
   "id": "accompanied-lucas",
   "metadata": {},
   "source": [
    "## Notes\n",
    "\n",
    "- USA Today only goes as far back at Feb 19\n",
    "- AP News goes back to Feb 12"
   ]
  },
  {
   "cell_type": "code",
   "execution_count": 266,
   "id": "closing-seller",
   "metadata": {},
   "outputs": [],
   "source": [
    "def make_url_list(first_url, num_pages=20):\n",
    "\n",
    "    urls = [first_url]\n",
    "    base_url = first_url[:-13]\n",
    "    end_url = first_url[-12:]\n",
    "\n",
    "    for i in range(2,num_pages):\n",
    "        modified_url = base_url + str(i) + end_url\n",
    "        urls.append(modified_url)\n",
    "        \n",
    "    return(urls)\n"
   ]
  },
  {
   "cell_type": "code",
   "execution_count": 267,
   "id": "tested-uncle",
   "metadata": {},
   "outputs": [],
   "source": [
    "def get_claims(url):\n",
    "    '''\n",
    "    URL taken from factcheck.afp.com\n",
    "    \n",
    "    This just extracts the url, headline and date from the list\n",
    "    Could actually navigate to extracted URL and get more info\n",
    "    \n",
    "    Returns df with url, headline, date, time\n",
    "    '''\n",
    "    page = requests.get(url)\n",
    "    soup = BeautifulSoup(page.content,'html.parser')\n",
    "\n",
    "    base_url = 'https://www.reuters.com/'\n",
    "    urls = list()\n",
    "    details = list()\n",
    "    headlines = list()\n",
    "\n",
    "    dates = list()\n",
    "\n",
    "    feedpost = soup.find('div', attrs={'class': 'column1 col col-10'})\n",
    "\n",
    "    cards = feedpost.find_all('article')\n",
    "    for card in cards:\n",
    "        url = card.find(\"a\")['href']\n",
    "        urls.append(base_url + url)\n",
    "        hl = card.find(\"h3\").get_text().strip()\n",
    "        headlines.append(hl)\n",
    "        deet = card.find(\"p\").get_text()\n",
    "        details.append(deet)\n",
    "        dt = card.find('span').get_text()\n",
    "        dates.append(dt) #needs refactoring\n",
    "\n",
    "    df = pd.DataFrame(list(zip(urls, headlines, details, dates)), \n",
    "                       columns =['url', 'headline', 'details', 'date'])\n",
    "\n",
    "\n",
    "    today = df[df['date'].str.contains('EDT')]\n",
    "    today['date'] = datetime.today().strftime('%d-%m-%Y')\n",
    "\n",
    "    before = df[~df['date'].str.contains('EDT')]\n",
    "    before['date'] = before['date'].map(lambda dt_obj: datetime.strptime(dt_obj, '%b %d %Y').strftime('%d-%m-%Y'))\n",
    "\n",
    "    all_together = pd.concat([today, before])\n",
    "    \n",
    "    return(all_together)\n"
   ]
  },
  {
   "cell_type": "code",
   "execution_count": 268,
   "id": "seasonal-aside",
   "metadata": {},
   "outputs": [
    {
     "name": "stdout",
     "output_type": "stream",
     "text": [
      "https://www.reuters.com/news/archive/reutersComService?view=page&page=1&pageSize=10\n",
      "https://www.reuters.com/news/archive/reutersComService?view=page&page=2&pageSize=10\n",
      "https://www.reuters.com/news/archive/reutersComService?view=page&page=3&pageSize=10\n",
      "https://www.reuters.com/news/archive/reutersComService?view=page&page=4&pageSize=10\n",
      "https://www.reuters.com/news/archive/reutersComService?view=page&page=5&pageSize=10\n",
      "https://www.reuters.com/news/archive/reutersComService?view=page&page=6&pageSize=10\n",
      "https://www.reuters.com/news/archive/reutersComService?view=page&page=7&pageSize=10\n",
      "https://www.reuters.com/news/archive/reutersComService?view=page&page=8&pageSize=10\n",
      "https://www.reuters.com/news/archive/reutersComService?view=page&page=9&pageSize=10\n",
      "https://www.reuters.com/news/archive/reutersComService?view=page&page=10&pageSize=10\n",
      "https://www.reuters.com/news/archive/reutersComService?view=page&page=11&pageSize=10\n",
      "https://www.reuters.com/news/archive/reutersComService?view=page&page=12&pageSize=10\n",
      "https://www.reuters.com/news/archive/reutersComService?view=page&page=13&pageSize=10\n",
      "https://www.reuters.com/news/archive/reutersComService?view=page&page=14&pageSize=10\n",
      "https://www.reuters.com/news/archive/reutersComService?view=page&page=15&pageSize=10\n",
      "https://www.reuters.com/news/archive/reutersComService?view=page&page=16&pageSize=10\n",
      "https://www.reuters.com/news/archive/reutersComService?view=page&page=17&pageSize=10\n",
      "https://www.reuters.com/news/archive/reutersComService?view=page&page=18&pageSize=10\n",
      "https://www.reuters.com/news/archive/reutersComService?view=page&page=19&pageSize=10\n",
      "https://www.reuters.com/news/archive/reutersComService?view=page&page=20&pageSize=10\n",
      "https://www.reuters.com/news/archive/reutersComService?view=page&page=21&pageSize=10\n",
      "https://www.reuters.com/news/archive/reutersComService?view=page&page=22&pageSize=10\n",
      "https://www.reuters.com/news/archive/reutersComService?view=page&page=23&pageSize=10\n",
      "https://www.reuters.com/news/archive/reutersComService?view=page&page=24&pageSize=10\n",
      "https://www.reuters.com/news/archive/reutersComService?view=page&page=25&pageSize=10\n",
      "https://www.reuters.com/news/archive/reutersComService?view=page&page=26&pageSize=10\n",
      "https://www.reuters.com/news/archive/reutersComService?view=page&page=27&pageSize=10\n",
      "https://www.reuters.com/news/archive/reutersComService?view=page&page=28&pageSize=10\n",
      "https://www.reuters.com/news/archive/reutersComService?view=page&page=29&pageSize=10\n",
      "https://www.reuters.com/news/archive/reutersComService?view=page&page=30&pageSize=10\n",
      "https://www.reuters.com/news/archive/reutersComService?view=page&page=31&pageSize=10\n",
      "https://www.reuters.com/news/archive/reutersComService?view=page&page=32&pageSize=10\n",
      "https://www.reuters.com/news/archive/reutersComService?view=page&page=33&pageSize=10\n",
      "https://www.reuters.com/news/archive/reutersComService?view=page&page=34&pageSize=10\n",
      "https://www.reuters.com/news/archive/reutersComService?view=page&page=35&pageSize=10\n",
      "https://www.reuters.com/news/archive/reutersComService?view=page&page=36&pageSize=10\n",
      "https://www.reuters.com/news/archive/reutersComService?view=page&page=37&pageSize=10\n",
      "https://www.reuters.com/news/archive/reutersComService?view=page&page=38&pageSize=10\n",
      "https://www.reuters.com/news/archive/reutersComService?view=page&page=39&pageSize=10\n",
      "https://www.reuters.com/news/archive/reutersComService?view=page&page=40&pageSize=10\n",
      "https://www.reuters.com/news/archive/reutersComService?view=page&page=41&pageSize=10\n",
      "https://www.reuters.com/news/archive/reutersComService?view=page&page=42&pageSize=10\n",
      "https://www.reuters.com/news/archive/reutersComService?view=page&page=43&pageSize=10\n",
      "https://www.reuters.com/news/archive/reutersComService?view=page&page=44&pageSize=10\n",
      "https://www.reuters.com/news/archive/reutersComService?view=page&page=45&pageSize=10\n",
      "https://www.reuters.com/news/archive/reutersComService?view=page&page=46&pageSize=10\n",
      "https://www.reuters.com/news/archive/reutersComService?view=page&page=47&pageSize=10\n",
      "https://www.reuters.com/news/archive/reutersComService?view=page&page=48&pageSize=10\n",
      "https://www.reuters.com/news/archive/reutersComService?view=page&page=49&pageSize=10\n",
      "https://www.reuters.com/news/archive/reutersComService?view=page&page=50&pageSize=10\n",
      "https://www.reuters.com/news/archive/reutersComService?view=page&page=51&pageSize=10\n",
      "https://www.reuters.com/news/archive/reutersComService?view=page&page=52&pageSize=10\n",
      "https://www.reuters.com/news/archive/reutersComService?view=page&page=53&pageSize=10\n",
      "https://www.reuters.com/news/archive/reutersComService?view=page&page=54&pageSize=10\n",
      "https://www.reuters.com/news/archive/reutersComService?view=page&page=55&pageSize=10\n",
      "https://www.reuters.com/news/archive/reutersComService?view=page&page=56&pageSize=10\n",
      "https://www.reuters.com/news/archive/reutersComService?view=page&page=57&pageSize=10\n",
      "https://www.reuters.com/news/archive/reutersComService?view=page&page=58&pageSize=10\n",
      "https://www.reuters.com/news/archive/reutersComService?view=page&page=59&pageSize=10\n",
      "https://www.reuters.com/news/archive/reutersComService?view=page&page=60&pageSize=10\n"
     ]
    }
   ],
   "source": [
    "url = 'https://www.reuters.com/news/archive/reutersComService?view=page&page=1&pageSize=10'\n",
    "urls = make_url_list(url, num_pages=61)\n",
    "\n",
    "all_data = pd.DataFrame()\n",
    "\n",
    "for url in urls:\n",
    "    print(url)\n",
    "    page_data = get_claims(url)\n",
    "    all_data = pd.concat([all_data, page_data])\n",
    "\n",
    "all_data.to_csv('/Users/madelinecampbell/Documents/GitHub/projects/misinformation_2021/data/reuters.csv')\n"
   ]
  },
  {
   "cell_type": "code",
   "execution_count": 259,
   "id": "detected-response",
   "metadata": {},
   "outputs": [],
   "source": [
    "url = 'https://www.reuters.com/news/archive/reutersComService?view=page&page=1&pageSize=10'\n",
    "\n",
    "page = requests.get(url)\n",
    "soup = BeautifulSoup(page.content,'html.parser')\n",
    "\n",
    "base_url = 'https://www.reuters.com/'\n",
    "urls = list()\n",
    "details = list()\n",
    "headlines = list()\n",
    "\n",
    "dates = list()\n",
    "\n",
    "feedpost = soup.find('div', attrs={'class': 'column1 col col-10'})\n",
    "\n",
    "cards = feedpost.find_all('article')\n",
    "# for card in cards:\n",
    "#     url = card.find(\"a\")['href']\n",
    "#     urls.append(base_url + url)\n",
    "#     hl = card.find(\"h3\").get_text().strip()\n",
    "#     headlines.append(hl)\n",
    "#     deet = card.find(\"p\").get_text()\n",
    "#     details.append(deet)\n",
    "#     dt = card.find('span').get_text()\n",
    "#     dates.append(dt) #needs refactoring\n",
    "\n",
    "# df = pd.DataFrame(list(zip(urls, headlines, details, dates)), \n",
    "#                    columns =['url', 'headline', 'details', 'date'])\n",
    "\n",
    "\n",
    "# today = df[df['date'].str.contains('EDT')]\n",
    "# today['date'] = datetime.today().strftime('%d-%m-%Y')\n",
    "\n",
    "# before = df[~df['date'].str.contains('EDT')]\n",
    "# before['date'] = before['date'].map(lambda dt_obj: datetime.strptime(dt_obj, '%b %d %Y').strftime('%d-%m-%Y'))\n",
    "\n",
    "# all_together = pd.concat([today, before])"
   ]
  },
  {
   "cell_type": "code",
   "execution_count": 260,
   "id": "offensive-cartoon",
   "metadata": {},
   "outputs": [
    {
     "data": {
      "text/plain": [
       "<article class=\"story\">\n",
       "<div class=\"story-photo lazy-photo\">\n",
       "<a href=\"/article/uk-factcheck-side-effects/fact-check-video-misinterprets-report-into-health-impact-events-after-vaccination-idUSKBN29Q2B6\">\n",
       "<img alt=\"\" border=\"0\" org-src=\"https://s4.reutersmedia.net/resources/r/?m=02&amp;d=20210121&amp;t=2&amp;i=1548604297&amp;w=200&amp;fh=&amp;fw=&amp;ll=&amp;pl=&amp;sq=&amp;r=LYNXMPEH0K1A9\" src=\"https://s1.reutersmedia.net/resources_v2/images/1x1.png\"/>\n",
       "</a>\n",
       "</div><div class=\"story-content\">\n",
       "<a href=\"/article/uk-factcheck-side-effects/fact-check-video-misinterprets-report-into-health-impact-events-after-vaccination-idUSKBN29Q2B6\">\n",
       "<h3 class=\"story-title\">\n",
       "\t\t\t\t\t\t\t\tFact check: Video misinterprets report into health impact events after vaccination</h3>\n",
       "</a>\n",
       "<div class=\"contributor\"></div>\n",
       "<p>Correction, March 11, 2021: An earlier version of this check incorrectly attributed remarks in paragraphs nine and twelve to a spokeswoman from Pfizer. The remarks were in fact made by a spokeswoman from the Centers for Disease Control and Prevention (CDC).</p>\n",
       "<time class=\"article-time\">\n",
       "<span class=\"timestamp\">Mar 11 2021</span>\n",
       "</time>\n",
       "</div>\n",
       "</article>"
      ]
     },
     "execution_count": 260,
     "metadata": {},
     "output_type": "execute_result"
    }
   ],
   "source": [
    "cards[0]"
   ]
  },
  {
   "cell_type": "code",
   "execution_count": 32,
   "id": "representative-agent",
   "metadata": {},
   "outputs": [],
   "source": [
    "url = 'https://leadstories.com/cgi-bin/mt/mt-search.fcgi?IncludeBlogs=1&archive_type=Index'\n",
    "page = requests.get(url)\n",
    "soup = BeautifulSoup(page.content,'html.parser')\n",
    "\n",
    "urls = list()\n",
    "\n",
    "headlines = list()\n",
    "details = list()\n",
    "\n",
    "dates = list()\n",
    "\n",
    "feedpost = soup.find('div', attrs={'class': 'mod-static-content-inner'})\n",
    "\n",
    "cards = feedpost.find_all('article')\n"
   ]
  },
  {
   "cell_type": "code",
   "execution_count": 36,
   "id": "graduate-candidate",
   "metadata": {},
   "outputs": [
    {
     "data": {
      "text/plain": [
       "'Mar 18, 2021'"
      ]
     },
     "execution_count": 36,
     "metadata": {},
     "output_type": "execute_result"
    }
   ],
   "source": [
    "cards[0].find('small').get_text()"
   ]
  },
  {
   "cell_type": "code",
   "execution_count": 14,
   "id": "first-roulette",
   "metadata": {},
   "outputs": [
    {
     "data": {
      "text/plain": [
       "'A Food and Drug Administration presentation on monitoring the safety of COVID-19 vaccines listed possible adverse events the agency might track. But an Instagram post misrepresents the document, falsely claiming it shows the vaccines are known to cause harmful side effects — including death.'"
      ]
     },
     "execution_count": 14,
     "metadata": {},
     "output_type": "execute_result"
    }
   ],
   "source": [
    "cards[0].find('p').get_text() #'div', {'class':'entry-meta'}).get_text()[3:].strip()"
   ]
  },
  {
   "cell_type": "code",
   "execution_count": 254,
   "id": "tired-lingerie",
   "metadata": {},
   "outputs": [],
   "source": [
    "url = 'https://factcheck.thedispatch.com/archive'\n",
    "\n",
    "page = requests.get(url)\n",
    "\n",
    "soup = BeautifulSoup(page.content, 'html.parser')\n",
    "\n",
    "urls = list()\n",
    "# base_url = 'https://checkyourfact.com'\n",
    "\n",
    "headlines = list()\n",
    "\n",
    "dates = list()\n",
    "\n",
    "feedpost = soup.find('div', attrs={'class': 'portable-archive-list'})\n",
    "cards = feedpost.find_all('div', {'class':'post-preview portable-archive-post has-image has-author-line'})"
   ]
  },
  {
   "cell_type": "code",
   "execution_count": 262,
   "id": "primary-disclosure",
   "metadata": {},
   "outputs": [
    {
     "data": {
      "text/plain": [
       "'https://factcheck.thedispatch.com/p/did-the-washington-post-correct-a'"
      ]
     },
     "execution_count": 262,
     "metadata": {},
     "output_type": "execute_result"
    }
   ],
   "source": [
    "#feedpost\n",
    "\n",
    "cards[0].find(\"a\")['href']"
   ]
  },
  {
   "cell_type": "code",
   "execution_count": 263,
   "id": "sexual-feeding",
   "metadata": {},
   "outputs": [
    {
     "data": {
      "text/plain": [
       "'Did the Washington Post Correct a Report About Trump’s Call With the Georgia Secretary of State?'"
      ]
     },
     "execution_count": 263,
     "metadata": {},
     "output_type": "execute_result"
    }
   ],
   "source": [
    "url = 'https://factcheck.thedispatch.com/p/did-the-washington-post-correct-a'\n",
    "page2 = requests.get(url)\n",
    "soup2 = BeautifulSoup(page2.content, 'html.parser')\n",
    "title = soup2.find(\"h1\").get_text()\n",
    "dt = soup2.find(\"table\").find('td', {'class': 'post-meta-item post-date'}).get_text()"
   ]
  },
  {
   "cell_type": "code",
   "execution_count": 272,
   "id": "tested-carpet",
   "metadata": {},
   "outputs": [
    {
     "data": {
      "text/plain": [
       "'13 hr ago'"
      ]
     },
     "execution_count": 272,
     "metadata": {},
     "output_type": "execute_result"
    }
   ],
   "source": [
    "soup2.find(\"table\").find('td', {'class': 'post-meta-item post-date'}).get_text()"
   ]
  },
  {
   "cell_type": "code",
   "execution_count": 240,
   "id": "distinct-truck",
   "metadata": {},
   "outputs": [
    {
     "data": {
      "text/plain": [
       "'FACT CHECK: Does This Image Show An Alert From The United Nations Warning Of Organ Trafficking In The Middle East?'"
      ]
     },
     "execution_count": 240,
     "metadata": {},
     "output_type": "execute_result"
    }
   ],
   "source": [
    "# feedpost\n",
    "\n",
    "# feedpost.find('features').find_all(\"a\")[0]\n",
    "\n",
    "feedpost = soup.find('atom')\n",
    "cards = feedpost.find('articles').find_all(\"a\")\n",
    "cards[0].find(\"name\").get_text()\n",
    "\n",
    "\n",
    "# feedpost.find('articles')"
   ]
  },
  {
   "cell_type": "code",
   "execution_count": 213,
   "id": "vulnerable-concord",
   "metadata": {},
   "outputs": [
    {
     "data": {
      "text/plain": [
       "'17-03-2021'"
      ]
     },
     "execution_count": 213,
     "metadata": {},
     "output_type": "execute_result"
    }
   ],
   "source": [
    "dt_obj = cards[0]['href'][1:11] #[1].get_text() #.find(\"title\").get_text()\n",
    "\n",
    "datetime.strptime(dt_obj, '%Y/%m/%d').strftime('%d-%m-%Y')"
   ]
  },
  {
   "cell_type": "code",
   "execution_count": 218,
   "id": "transsexual-reply",
   "metadata": {},
   "outputs": [
    {
     "data": {
      "text/plain": [
       "'https://checkyourfact.com/'"
      ]
     },
     "execution_count": 218,
     "metadata": {},
     "output_type": "execute_result"
    }
   ],
   "source": [
    "url[0:26]"
   ]
  },
  {
   "cell_type": "code",
   "execution_count": 176,
   "id": "floating-helena",
   "metadata": {},
   "outputs": [
    {
     "data": {
      "text/html": [
       "<div>\n",
       "<style scoped>\n",
       "    .dataframe tbody tr th:only-of-type {\n",
       "        vertical-align: middle;\n",
       "    }\n",
       "\n",
       "    .dataframe tbody tr th {\n",
       "        vertical-align: top;\n",
       "    }\n",
       "\n",
       "    .dataframe thead th {\n",
       "        text-align: right;\n",
       "    }\n",
       "</style>\n",
       "<table border=\"1\" class=\"dataframe\">\n",
       "  <thead>\n",
       "    <tr style=\"text-align: right;\">\n",
       "      <th></th>\n",
       "      <th>url</th>\n",
       "      <th>headline</th>\n",
       "      <th>date</th>\n",
       "      <th>claim</th>\n",
       "    </tr>\n",
       "  </thead>\n",
       "  <tbody>\n",
       "    <tr>\n",
       "      <th>0</th>\n",
       "      <td>https://apnews.com/article/fact-checking-afs:C...</td>\n",
       "      <td>Video of Biden with reporters was not digitall...</td>\n",
       "      <td>March 17, 2021 GMT</td>\n",
       "      <td>CLAIM: Video of President Joe Biden was digita...</td>\n",
       "    </tr>\n",
       "    <tr>\n",
       "      <th>1</th>\n",
       "      <td>https://apnews.com/article/fact-checking-afs:C...</td>\n",
       "      <td>Racist Facebook post attributed to Atlanta sho...</td>\n",
       "      <td>March 17, 2021 GMT</td>\n",
       "      <td>THE CLAIM: On Tuesday, hours before police say...</td>\n",
       "    </tr>\n",
       "    <tr>\n",
       "      <th>2</th>\n",
       "      <td>https://apnews.com/article/fact-checking-afs:C...</td>\n",
       "      <td>Misleading claims swirl around US election ove...</td>\n",
       "      <td>March 17, 2021 GMT</td>\n",
       "      <td>As Congress considers a sweeping bid to overha...</td>\n",
       "    </tr>\n",
       "    <tr>\n",
       "      <th>3</th>\n",
       "      <td>https://apnews.com/article/fact-checking-afs:C...</td>\n",
       "      <td>US and EU COVID vaccines don’t contain aluminum</td>\n",
       "      <td>March 16, 2021 GMT</td>\n",
       "      <td>CLAIM: COVID-19 vaccines contain aluminum, a t...</td>\n",
       "    </tr>\n",
       "    <tr>\n",
       "      <th>4</th>\n",
       "      <td>https://apnews.com/article/fact-checking-afs:C...</td>\n",
       "      <td>Columbia University holds a main graduation, a...</td>\n",
       "      <td>March 16, 2021 GMT</td>\n",
       "      <td>CLAIM: Columbia University is holding separate...</td>\n",
       "    </tr>\n",
       "  </tbody>\n",
       "</table>\n",
       "</div>"
      ],
      "text/plain": [
       "                                                 url  \\\n",
       "0  https://apnews.com/article/fact-checking-afs:C...   \n",
       "1  https://apnews.com/article/fact-checking-afs:C...   \n",
       "2  https://apnews.com/article/fact-checking-afs:C...   \n",
       "3  https://apnews.com/article/fact-checking-afs:C...   \n",
       "4  https://apnews.com/article/fact-checking-afs:C...   \n",
       "\n",
       "                                            headline                date  \\\n",
       "0  Video of Biden with reporters was not digitall...  March 17, 2021 GMT   \n",
       "1  Racist Facebook post attributed to Atlanta sho...  March 17, 2021 GMT   \n",
       "2  Misleading claims swirl around US election ove...  March 17, 2021 GMT   \n",
       "3    US and EU COVID vaccines don’t contain aluminum  March 16, 2021 GMT   \n",
       "4  Columbia University holds a main graduation, a...  March 16, 2021 GMT   \n",
       "\n",
       "                                               claim  \n",
       "0  CLAIM: Video of President Joe Biden was digita...  \n",
       "1  THE CLAIM: On Tuesday, hours before police say...  \n",
       "2  As Congress considers a sweeping bid to overha...  \n",
       "3  CLAIM: COVID-19 vaccines contain aluminum, a t...  \n",
       "4  CLAIM: Columbia University is holding separate...  "
      ]
     },
     "execution_count": 176,
     "metadata": {},
     "output_type": "execute_result"
    }
   ],
   "source": [
    "df = pd.DataFrame(list(zip(urls, headlines, dates, claims)), \n",
    "                   columns =['url', 'headline', 'date', 'claim']) \n",
    "\n",
    "df.head()"
   ]
  },
  {
   "cell_type": "code",
   "execution_count": 177,
   "id": "developmental-tuition",
   "metadata": {},
   "outputs": [],
   "source": []
  },
  {
   "cell_type": "code",
   "execution_count": 182,
   "id": "desirable-tunisia",
   "metadata": {},
   "outputs": [
    {
     "data": {
      "text/plain": [
       "'March 17, 2021 GMT'"
      ]
     },
     "execution_count": 182,
     "metadata": {},
     "output_type": "execute_result"
    }
   ],
   "source": [
    "temp_dt = df.date[0]\n",
    "temp_dt"
   ]
  },
  {
   "cell_type": "code",
   "execution_count": 187,
   "id": "martial-rehabilitation",
   "metadata": {},
   "outputs": [
    {
     "data": {
      "text/plain": [
       "'17-03-2021'"
      ]
     },
     "execution_count": 187,
     "metadata": {},
     "output_type": "execute_result"
    }
   ],
   "source": [
    "dt_obj = datetime.strptime(temp_dt, '%B %d, %Y %Z')\n",
    "dt_obj.strftime('%d-%m-%Y')"
   ]
  },
  {
   "cell_type": "code",
   "execution_count": 190,
   "id": "precise-brave",
   "metadata": {},
   "outputs": [
    {
     "data": {
      "text/html": [
       "<div>\n",
       "<style scoped>\n",
       "    .dataframe tbody tr th:only-of-type {\n",
       "        vertical-align: middle;\n",
       "    }\n",
       "\n",
       "    .dataframe tbody tr th {\n",
       "        vertical-align: top;\n",
       "    }\n",
       "\n",
       "    .dataframe thead th {\n",
       "        text-align: right;\n",
       "    }\n",
       "</style>\n",
       "<table border=\"1\" class=\"dataframe\">\n",
       "  <thead>\n",
       "    <tr style=\"text-align: right;\">\n",
       "      <th></th>\n",
       "      <th>url</th>\n",
       "      <th>headline</th>\n",
       "      <th>date</th>\n",
       "      <th>claim</th>\n",
       "      <th>date2</th>\n",
       "    </tr>\n",
       "  </thead>\n",
       "  <tbody>\n",
       "    <tr>\n",
       "      <th>0</th>\n",
       "      <td>https://apnews.com/article/fact-checking-afs:C...</td>\n",
       "      <td>Video of Biden with reporters was not digitall...</td>\n",
       "      <td>March 17, 2021 GMT</td>\n",
       "      <td>CLAIM: Video of President Joe Biden was digita...</td>\n",
       "      <td>17-03-2021</td>\n",
       "    </tr>\n",
       "    <tr>\n",
       "      <th>1</th>\n",
       "      <td>https://apnews.com/article/fact-checking-afs:C...</td>\n",
       "      <td>Racist Facebook post attributed to Atlanta sho...</td>\n",
       "      <td>March 17, 2021 GMT</td>\n",
       "      <td>THE CLAIM: On Tuesday, hours before police say...</td>\n",
       "      <td>17-03-2021</td>\n",
       "    </tr>\n",
       "    <tr>\n",
       "      <th>2</th>\n",
       "      <td>https://apnews.com/article/fact-checking-afs:C...</td>\n",
       "      <td>Misleading claims swirl around US election ove...</td>\n",
       "      <td>March 17, 2021 GMT</td>\n",
       "      <td>As Congress considers a sweeping bid to overha...</td>\n",
       "      <td>17-03-2021</td>\n",
       "    </tr>\n",
       "    <tr>\n",
       "      <th>3</th>\n",
       "      <td>https://apnews.com/article/fact-checking-afs:C...</td>\n",
       "      <td>US and EU COVID vaccines don’t contain aluminum</td>\n",
       "      <td>March 16, 2021 GMT</td>\n",
       "      <td>CLAIM: COVID-19 vaccines contain aluminum, a t...</td>\n",
       "      <td>16-03-2021</td>\n",
       "    </tr>\n",
       "    <tr>\n",
       "      <th>4</th>\n",
       "      <td>https://apnews.com/article/fact-checking-afs:C...</td>\n",
       "      <td>Columbia University holds a main graduation, a...</td>\n",
       "      <td>March 16, 2021 GMT</td>\n",
       "      <td>CLAIM: Columbia University is holding separate...</td>\n",
       "      <td>16-03-2021</td>\n",
       "    </tr>\n",
       "  </tbody>\n",
       "</table>\n",
       "</div>"
      ],
      "text/plain": [
       "                                                 url  \\\n",
       "0  https://apnews.com/article/fact-checking-afs:C...   \n",
       "1  https://apnews.com/article/fact-checking-afs:C...   \n",
       "2  https://apnews.com/article/fact-checking-afs:C...   \n",
       "3  https://apnews.com/article/fact-checking-afs:C...   \n",
       "4  https://apnews.com/article/fact-checking-afs:C...   \n",
       "\n",
       "                                            headline                date  \\\n",
       "0  Video of Biden with reporters was not digitall...  March 17, 2021 GMT   \n",
       "1  Racist Facebook post attributed to Atlanta sho...  March 17, 2021 GMT   \n",
       "2  Misleading claims swirl around US election ove...  March 17, 2021 GMT   \n",
       "3    US and EU COVID vaccines don’t contain aluminum  March 16, 2021 GMT   \n",
       "4  Columbia University holds a main graduation, a...  March 16, 2021 GMT   \n",
       "\n",
       "                                               claim       date2  \n",
       "0  CLAIM: Video of President Joe Biden was digita...  17-03-2021  \n",
       "1  THE CLAIM: On Tuesday, hours before police say...  17-03-2021  \n",
       "2  As Congress considers a sweeping bid to overha...  17-03-2021  \n",
       "3  CLAIM: COVID-19 vaccines contain aluminum, a t...  16-03-2021  \n",
       "4  CLAIM: Columbia University is holding separate...  16-03-2021  "
      ]
     },
     "execution_count": 190,
     "metadata": {},
     "output_type": "execute_result"
    }
   ],
   "source": [
    "df['date'] = df['date'].map(lambda dt_obj: datetime.strptime(dt_obj, '%B %d, %Y %Z').strftime('%d-%m-%Y'))\n",
    "\n"
   ]
  },
  {
   "cell_type": "code",
   "execution_count": 269,
   "id": "phantom-martial",
   "metadata": {},
   "outputs": [],
   "source": [
    "first_url = 'https://www.factcheck.org/?fbclid=IwAR1PzRjDeRQyQc1eYBDC2pL3VXAGO8vo1ScycnWmyf1ibKY4Kk7InLD4JMw'\n",
    "\n",
    "def make_url_list(first_url, num_pages=20):\n",
    "    urls = [first_url]\n",
    "    base_url = first_url[0:26]\n",
    "\n",
    "    end_url = first_url[25:]\n",
    "\n",
    "    for i in range(2,num_pages):\n",
    "        modified_url = base_url + 'page/' + str(i) + end_url\n",
    "        urls.append(modified_url)\n",
    "        \n",
    "    return(urls)\n",
    "\n",
    "urls = make_url_list(first_url, num_pages=20)\n",
    "\n"
   ]
  },
  {
   "cell_type": "code",
   "execution_count": 270,
   "id": "binary-carroll",
   "metadata": {},
   "outputs": [
    {
     "data": {
      "text/plain": [
       "['https://www.factcheck.org/?fbclid=IwAR1PzRjDeRQyQc1eYBDC2pL3VXAGO8vo1ScycnWmyf1ibKY4Kk7InLD4JMw',\n",
       " 'https://www.factcheck.org/page/2/?fbclid=IwAR1PzRjDeRQyQc1eYBDC2pL3VXAGO8vo1ScycnWmyf1ibKY4Kk7InLD4JMw',\n",
       " 'https://www.factcheck.org/page/3/?fbclid=IwAR1PzRjDeRQyQc1eYBDC2pL3VXAGO8vo1ScycnWmyf1ibKY4Kk7InLD4JMw',\n",
       " 'https://www.factcheck.org/page/4/?fbclid=IwAR1PzRjDeRQyQc1eYBDC2pL3VXAGO8vo1ScycnWmyf1ibKY4Kk7InLD4JMw',\n",
       " 'https://www.factcheck.org/page/5/?fbclid=IwAR1PzRjDeRQyQc1eYBDC2pL3VXAGO8vo1ScycnWmyf1ibKY4Kk7InLD4JMw',\n",
       " 'https://www.factcheck.org/page/6/?fbclid=IwAR1PzRjDeRQyQc1eYBDC2pL3VXAGO8vo1ScycnWmyf1ibKY4Kk7InLD4JMw',\n",
       " 'https://www.factcheck.org/page/7/?fbclid=IwAR1PzRjDeRQyQc1eYBDC2pL3VXAGO8vo1ScycnWmyf1ibKY4Kk7InLD4JMw',\n",
       " 'https://www.factcheck.org/page/8/?fbclid=IwAR1PzRjDeRQyQc1eYBDC2pL3VXAGO8vo1ScycnWmyf1ibKY4Kk7InLD4JMw',\n",
       " 'https://www.factcheck.org/page/9/?fbclid=IwAR1PzRjDeRQyQc1eYBDC2pL3VXAGO8vo1ScycnWmyf1ibKY4Kk7InLD4JMw',\n",
       " 'https://www.factcheck.org/page/10/?fbclid=IwAR1PzRjDeRQyQc1eYBDC2pL3VXAGO8vo1ScycnWmyf1ibKY4Kk7InLD4JMw',\n",
       " 'https://www.factcheck.org/page/11/?fbclid=IwAR1PzRjDeRQyQc1eYBDC2pL3VXAGO8vo1ScycnWmyf1ibKY4Kk7InLD4JMw',\n",
       " 'https://www.factcheck.org/page/12/?fbclid=IwAR1PzRjDeRQyQc1eYBDC2pL3VXAGO8vo1ScycnWmyf1ibKY4Kk7InLD4JMw',\n",
       " 'https://www.factcheck.org/page/13/?fbclid=IwAR1PzRjDeRQyQc1eYBDC2pL3VXAGO8vo1ScycnWmyf1ibKY4Kk7InLD4JMw',\n",
       " 'https://www.factcheck.org/page/14/?fbclid=IwAR1PzRjDeRQyQc1eYBDC2pL3VXAGO8vo1ScycnWmyf1ibKY4Kk7InLD4JMw',\n",
       " 'https://www.factcheck.org/page/15/?fbclid=IwAR1PzRjDeRQyQc1eYBDC2pL3VXAGO8vo1ScycnWmyf1ibKY4Kk7InLD4JMw',\n",
       " 'https://www.factcheck.org/page/16/?fbclid=IwAR1PzRjDeRQyQc1eYBDC2pL3VXAGO8vo1ScycnWmyf1ibKY4Kk7InLD4JMw',\n",
       " 'https://www.factcheck.org/page/17/?fbclid=IwAR1PzRjDeRQyQc1eYBDC2pL3VXAGO8vo1ScycnWmyf1ibKY4Kk7InLD4JMw',\n",
       " 'https://www.factcheck.org/page/18/?fbclid=IwAR1PzRjDeRQyQc1eYBDC2pL3VXAGO8vo1ScycnWmyf1ibKY4Kk7InLD4JMw',\n",
       " 'https://www.factcheck.org/page/19/?fbclid=IwAR1PzRjDeRQyQc1eYBDC2pL3VXAGO8vo1ScycnWmyf1ibKY4Kk7InLD4JMw']"
      ]
     },
     "execution_count": 270,
     "metadata": {},
     "output_type": "execute_result"
    }
   ],
   "source": [
    "urls"
   ]
  },
  {
   "cell_type": "code",
   "execution_count": 3,
   "id": "flying-identification",
   "metadata": {},
   "outputs": [],
   "source": [
    "import numpy as np\n",
    "import pandas as pd\n",
    "import requests\n",
    "from bs4 import BeautifulSoup\n",
    "from datetime import datetime\n",
    "\n",
    "def get_claims(url):\n",
    "    '''\n",
    "    URL taken from factcheck.afp.com\n",
    "    \n",
    "    This just extracts the url, headline and date from the list\n",
    "    Could actually navigate to extracted URL and get more info\n",
    "    \n",
    "    Returns df with url, headline, date, time\n",
    "    '''\n",
    "    page = requests.get(url)\n",
    "\n",
    "    soup = BeautifulSoup(page.content, 'html.parser')\n",
    "\n",
    "    urls = list()\n",
    "    base_url = 'https://apnews.com'\n",
    "\n",
    "    headlines = list()\n",
    "\n",
    "    dates = list()\n",
    "\n",
    "    # times = list()\n",
    "\n",
    "    claims = list()\n",
    "\n",
    "    feedpost = soup.find('article', attrs={'class': 'feed-0-2-16 feed'})\n",
    "    if feedpost is None:\n",
    "        feedpost = soup.find('main')\n",
    "    cards = feedpost.find('article').find_all('div', {'class': 'FeedCard Component-wireStory-0-2-104'})\n",
    "    for card in cards:\n",
    "        url = card.find(\"a\")['href']\n",
    "        urls.append(base_url + url)\n",
    "        hl = card.find(\"h1\").get_text()\n",
    "        headlines.append(hl)\n",
    "        dt = card.find_all(\"span\")[1].get_text() \n",
    "        dates.append(dt) # needs refactoring\n",
    "        cl = card.find(\"p\").get_text()\n",
    "        claims.append(cl)\n",
    "\n",
    "    df = pd.DataFrame(list(zip(urls, headlines, dates, claims)), \n",
    "                       columns =['url', 'headline', 'date', 'claim']) \n",
    "\n",
    "    df['date'] = df['date'].map(lambda dt_obj: datetime.strptime(dt_obj, '%B %d, %Y %Z').strftime('%d-%m-%Y'))\n",
    "\n",
    "    return(df)\n",
    "\n",
    "\n",
    "url = 'https://apnews.com/hub/fact-checking'\n",
    "\n",
    "df = get_claims(url)\n",
    "df.to_csv('/Users/madelinecampbell/Documents/GitHub/projects/misinformation_2021/data/ap.csv')"
   ]
  },
  {
   "cell_type": "code",
   "execution_count": 4,
   "id": "absolute-abraham",
   "metadata": {},
   "outputs": [],
   "source": [
    "import pandas as pd\n",
    "import numpy as np\n",
    "import requests\n",
    "from bs4 import BeautifulSoup\n",
    "\n",
    "\n",
    "def make_url_list(base_URL, num_pages=20):\n",
    "    '''\n",
    "    base_URL :  URL from first page of AFP website\n",
    "    num_pages : how many scrolling pages do you want to scrape (num extra URLs)\n",
    "    \n",
    "    returns list of URLs\n",
    "    '''\n",
    "    afp_urls = [base_URL]\n",
    "    \n",
    "    for i in range(1,num_pages):\n",
    "        modified_url = base_URL + '&page=' + str(i)\n",
    "        afp_urls.append(modified_url)\n",
    "        \n",
    "    return(afp_urls)\n",
    "\n",
    "\n",
    "def get_claims(URL):\n",
    "    '''\n",
    "    URL taken from factcheck.afp.com\n",
    "    \n",
    "    This just extracts the url, headline and date from the list\n",
    "    Could actually navigate to extracted URL and get more info\n",
    "    \n",
    "    Returns df with url, headline, date, time\n",
    "    '''\n",
    "    page = requests.get(URL)\n",
    "\n",
    "    soup = BeautifulSoup(page.content, 'html.parser')\n",
    "\n",
    "    urls = list()\n",
    "    base_url = 'https://factcheck.afp.com'\n",
    "\n",
    "    headlines = list()\n",
    "\n",
    "    dates = list()\n",
    "\n",
    "    times = list()\n",
    "\n",
    "    featured_post = soup.find('div', attrs={'class': 'featured-post'})\n",
    "    if featured_post is None:\n",
    "        featured_post = soup.find('main')\n",
    "    cards = featured_post.select(\".card\")\n",
    "    for card in cards:\n",
    "        url = card.find(\"a\")['href']\n",
    "        urls.append(base_url + url)\n",
    "        hl = card.find(\"h4\").get_text()[2:].strip()\n",
    "        headlines.append(hl)\n",
    "        dt = card.find(\"small\").get_text().split(' ')[2] \n",
    "        dates.append(dt)\n",
    "        tm = card.find(\"small\").get_text().split(' ')[4]\n",
    "        times.append(tm)\n",
    "\n",
    "    df = pd.DataFrame(list(zip(urls, headlines, dates, times)), \n",
    "                   columns =['url', 'headline', 'date', 'time']) \n",
    "    \n",
    "    df['date'] = df['date'].map(lambda dt_obj: datetime.strptime(dt_obj, '%d/%m/%Y').strftime('%d-%m-%Y'))\n",
    "\n",
    "\n",
    "    return(df)\n",
    "\n",
    "\n",
    "\n",
    "### run all the code\n",
    "\n",
    "base_URL = 'https://factcheck.afp.com/afp-usa?fbclid=IwAR3In37HRkagU6Lc-63sRxwo7wq_lkAighsVI4EDmtDkwE6WoJEVg6bEDoc'\n",
    "\n",
    "all_urls = make_url_list(base_URL, num_pages=24)\n",
    "\n",
    "all_data = pd.DataFrame()\n",
    "\n",
    "for url in all_urls:\n",
    "    page_data = get_claims(url)\n",
    "    all_data = pd.concat([all_data, page_data])\n",
    "    \n",
    "\n",
    "### save df to data folder   \n",
    "all_data.to_csv('/Users/madelinecampbell/Documents/GitHub/projects/misinformation_2021/data/afp.csv')\n"
   ]
  },
  {
   "cell_type": "code",
   "execution_count": null,
   "id": "extreme-harmony",
   "metadata": {},
   "outputs": [],
   "source": []
  }
 ],
 "metadata": {
  "kernelspec": {
   "display_name": "Python 3",
   "language": "python",
   "name": "python3"
  },
  "language_info": {
   "codemirror_mode": {
    "name": "ipython",
    "version": 3
   },
   "file_extension": ".py",
   "mimetype": "text/x-python",
   "name": "python",
   "nbconvert_exporter": "python",
   "pygments_lexer": "ipython3",
   "version": "3.8.5"
  }
 },
 "nbformat": 4,
 "nbformat_minor": 5
}
