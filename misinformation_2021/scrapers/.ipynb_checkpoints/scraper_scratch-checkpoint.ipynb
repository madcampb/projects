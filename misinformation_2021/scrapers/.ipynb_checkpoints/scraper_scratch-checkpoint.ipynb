{
 "cells": [
  {
   "cell_type": "code",
   "execution_count": 278,
   "id": "nutritional-chrome",
   "metadata": {},
   "outputs": [],
   "source": [
    "import pandas as pd\n",
    "import numpy as np\n",
    "import requests\n",
    "from bs4 import BeautifulSoup\n",
    "from datetime import datetime\n",
    "from selenium import webdriver\n"
   ]
  },
  {
   "cell_type": "code",
   "execution_count": 227,
   "id": "closing-seller",
   "metadata": {},
   "outputs": [],
   "source": [
    "def make_url_list(first_url, num_pages=20):\n",
    "    urls = [first_url]\n",
    "    \n",
    "    base_url = first_url[0:26]\n",
    "    \n",
    "    for i in range(2,num_pages):\n",
    "        modified_url = base_url + 'page/' + str(i)\n",
    "        urls.append(modified_url)\n",
    "        \n",
    "    return(urls)"
   ]
  },
  {
   "cell_type": "code",
   "execution_count": 243,
   "id": "tested-uncle",
   "metadata": {},
   "outputs": [],
   "source": [
    "def get_claims(url):\n",
    "    '''\n",
    "    URL taken from factcheck.afp.com\n",
    "    \n",
    "    This just extracts the url, headline and date from the list\n",
    "    Could actually navigate to extracted URL and get more info\n",
    "    \n",
    "    Returns df with url, headline, date, time\n",
    "    '''\n",
    "    page = requests.get(url)\n",
    "\n",
    "    soup = BeautifulSoup(page.content, 'html.parser')\n",
    "\n",
    "    urls = list()\n",
    "    base_url = 'https://checkyourfact.com'\n",
    "\n",
    "    headlines = list()\n",
    "\n",
    "    dates = list()\n",
    "\n",
    "    feedpost = soup.find('atom')\n",
    "    feats = feedpost.find('features')\n",
    "    \n",
    "    if feats: \n",
    "        cards = feats.find_all(\"a\")\n",
    "    \n",
    "        for card in cards:\n",
    "            url = card['href']\n",
    "            urls.append(base_url + url)\n",
    "            hl = card.find(\"span\").get_text()\n",
    "            headlines.append(hl)\n",
    "            dt = card['href'][1:11]\n",
    "            dates.append(dt) # needs refactoring\n",
    "        \n",
    "    article_cards = feedpost.find('articles').find_all(\"a\")\n",
    "    \n",
    "    for card in article_cards:\n",
    "        url = card['href']\n",
    "        urls.append(base_url + url)\n",
    "        hl = card.find(\"name\").get_text()\n",
    "        headlines.append(hl)\n",
    "        dt = card['href'][1:11]\n",
    "        dates.append(dt)\n",
    "\n",
    "    df = pd.DataFrame(list(zip(urls, headlines, dates)), \n",
    "                       columns =['url', 'headline', 'date']) \n",
    "\n",
    "    df['date'] = df['date'].map(lambda dt_obj: datetime.strptime(dt_obj, '%Y/%m/%d').strftime('%d-%m-%Y'))\n",
    "\n",
    "    return(df)"
   ]
  },
  {
   "cell_type": "code",
   "execution_count": 244,
   "id": "seasonal-aside",
   "metadata": {},
   "outputs": [
    {
     "name": "stdout",
     "output_type": "stream",
     "text": [
      "https://checkyourfact.com/?fbclid=IwAR1WS2XZjpejAlLm34KrHtYvT0fy9ep5FFbTVLSREAPtxGVPLrxHXRPkm0k\n",
      "https://checkyourfact.com/page/2\n",
      "https://checkyourfact.com/page/3\n",
      "https://checkyourfact.com/page/4\n",
      "https://checkyourfact.com/page/5\n",
      "https://checkyourfact.com/page/6\n",
      "https://checkyourfact.com/page/7\n",
      "https://checkyourfact.com/page/8\n",
      "https://checkyourfact.com/page/9\n",
      "https://checkyourfact.com/page/10\n",
      "https://checkyourfact.com/page/11\n",
      "https://checkyourfact.com/page/12\n",
      "https://checkyourfact.com/page/13\n",
      "https://checkyourfact.com/page/14\n",
      "https://checkyourfact.com/page/15\n",
      "https://checkyourfact.com/page/16\n",
      "https://checkyourfact.com/page/17\n",
      "https://checkyourfact.com/page/18\n",
      "https://checkyourfact.com/page/19\n",
      "https://checkyourfact.com/page/20\n",
      "https://checkyourfact.com/page/21\n",
      "https://checkyourfact.com/page/22\n",
      "https://checkyourfact.com/page/23\n",
      "https://checkyourfact.com/page/24\n"
     ]
    }
   ],
   "source": [
    "first_url = 'https://checkyourfact.com/?fbclid=IwAR1WS2XZjpejAlLm34KrHtYvT0fy9ep5FFbTVLSREAPtxGVPLrxHXRPkm0k'\n",
    "\n",
    "urls = make_url_list(first_url, num_pages=25)\n",
    "\n",
    "all_data = pd.DataFrame()\n",
    "\n",
    "for url in urls:\n",
    "    print(url)\n",
    "    page_data = get_claims(url)\n",
    "    all_data = pd.concat([all_data, page_data])\n",
    "    \n",
    "all_data.to_csv('/Users/madelinecampbell/Documents/GitHub/projects/misinformation_2021/data/checkyourfact.csv')\n"
   ]
  },
  {
   "cell_type": "code",
   "execution_count": 230,
   "id": "convertible-holder",
   "metadata": {},
   "outputs": [
    {
     "data": {
      "text/plain": [
       "['https://checkyourfact.com/?fbclid=IwAR1WS2XZjpejAlLm34KrHtYvT0fy9ep5FFbTVLSREAPtxGVPLrxHXRPkm0k',\n",
       " 'https://checkyourfact.com/page/2',\n",
       " 'https://checkyourfact.com/page/3',\n",
       " 'https://checkyourfact.com/page/4',\n",
       " 'https://checkyourfact.com/page/5',\n",
       " 'https://checkyourfact.com/page/6',\n",
       " 'https://checkyourfact.com/page/7',\n",
       " 'https://checkyourfact.com/page/8',\n",
       " 'https://checkyourfact.com/page/9',\n",
       " 'https://checkyourfact.com/page/10',\n",
       " 'https://checkyourfact.com/page/11',\n",
       " 'https://checkyourfact.com/page/12',\n",
       " 'https://checkyourfact.com/page/13',\n",
       " 'https://checkyourfact.com/page/14',\n",
       " 'https://checkyourfact.com/page/15',\n",
       " 'https://checkyourfact.com/page/16',\n",
       " 'https://checkyourfact.com/page/17',\n",
       " 'https://checkyourfact.com/page/18',\n",
       " 'https://checkyourfact.com/page/19',\n",
       " 'https://checkyourfact.com/page/20',\n",
       " 'https://checkyourfact.com/page/21',\n",
       " 'https://checkyourfact.com/page/22',\n",
       " 'https://checkyourfact.com/page/23',\n",
       " 'https://checkyourfact.com/page/24']"
      ]
     },
     "execution_count": 230,
     "metadata": {},
     "output_type": "execute_result"
    }
   ],
   "source": [
    "urls\n"
   ]
  },
  {
   "cell_type": "code",
   "execution_count": 280,
   "id": "detected-response",
   "metadata": {},
   "outputs": [
    {
     "ename": "WebDriverException",
     "evalue": "Message: 'chromedriver' executable needs to be in PATH. Please see https://sites.google.com/a/chromium.org/chromedriver/home\n",
     "output_type": "error",
     "traceback": [
      "\u001b[0;31m---------------------------------------------------------------------------\u001b[0m",
      "\u001b[0;31mFileNotFoundError\u001b[0m                         Traceback (most recent call last)",
      "\u001b[0;32m~/opt/miniconda3/lib/python3.8/site-packages/selenium/webdriver/common/service.py\u001b[0m in \u001b[0;36mstart\u001b[0;34m(self)\u001b[0m\n\u001b[1;32m     71\u001b[0m             \u001b[0mcmd\u001b[0m\u001b[0;34m.\u001b[0m\u001b[0mextend\u001b[0m\u001b[0;34m(\u001b[0m\u001b[0mself\u001b[0m\u001b[0;34m.\u001b[0m\u001b[0mcommand_line_args\u001b[0m\u001b[0;34m(\u001b[0m\u001b[0;34m)\u001b[0m\u001b[0;34m)\u001b[0m\u001b[0;34m\u001b[0m\u001b[0;34m\u001b[0m\u001b[0m\n\u001b[0;32m---> 72\u001b[0;31m             self.process = subprocess.Popen(cmd, env=self.env,\n\u001b[0m\u001b[1;32m     73\u001b[0m                                             \u001b[0mclose_fds\u001b[0m\u001b[0;34m=\u001b[0m\u001b[0mplatform\u001b[0m\u001b[0;34m.\u001b[0m\u001b[0msystem\u001b[0m\u001b[0;34m(\u001b[0m\u001b[0;34m)\u001b[0m \u001b[0;34m!=\u001b[0m \u001b[0;34m'Windows'\u001b[0m\u001b[0;34m,\u001b[0m\u001b[0;34m\u001b[0m\u001b[0;34m\u001b[0m\u001b[0m\n",
      "\u001b[0;32m~/opt/miniconda3/lib/python3.8/subprocess.py\u001b[0m in \u001b[0;36m__init__\u001b[0;34m(self, args, bufsize, executable, stdin, stdout, stderr, preexec_fn, close_fds, shell, cwd, env, universal_newlines, startupinfo, creationflags, restore_signals, start_new_session, pass_fds, encoding, errors, text)\u001b[0m\n\u001b[1;32m    853\u001b[0m \u001b[0;34m\u001b[0m\u001b[0m\n\u001b[0;32m--> 854\u001b[0;31m             self._execute_child(args, executable, preexec_fn, close_fds,\n\u001b[0m\u001b[1;32m    855\u001b[0m                                 \u001b[0mpass_fds\u001b[0m\u001b[0;34m,\u001b[0m \u001b[0mcwd\u001b[0m\u001b[0;34m,\u001b[0m \u001b[0menv\u001b[0m\u001b[0;34m,\u001b[0m\u001b[0;34m\u001b[0m\u001b[0;34m\u001b[0m\u001b[0m\n",
      "\u001b[0;32m~/opt/miniconda3/lib/python3.8/subprocess.py\u001b[0m in \u001b[0;36m_execute_child\u001b[0;34m(self, args, executable, preexec_fn, close_fds, pass_fds, cwd, env, startupinfo, creationflags, shell, p2cread, p2cwrite, c2pread, c2pwrite, errread, errwrite, restore_signals, start_new_session)\u001b[0m\n\u001b[1;32m   1701\u001b[0m                         \u001b[0merr_msg\u001b[0m \u001b[0;34m=\u001b[0m \u001b[0mos\u001b[0m\u001b[0;34m.\u001b[0m\u001b[0mstrerror\u001b[0m\u001b[0;34m(\u001b[0m\u001b[0merrno_num\u001b[0m\u001b[0;34m)\u001b[0m\u001b[0;34m\u001b[0m\u001b[0;34m\u001b[0m\u001b[0m\n\u001b[0;32m-> 1702\u001b[0;31m                     \u001b[0;32mraise\u001b[0m \u001b[0mchild_exception_type\u001b[0m\u001b[0;34m(\u001b[0m\u001b[0merrno_num\u001b[0m\u001b[0;34m,\u001b[0m \u001b[0merr_msg\u001b[0m\u001b[0;34m,\u001b[0m \u001b[0merr_filename\u001b[0m\u001b[0;34m)\u001b[0m\u001b[0;34m\u001b[0m\u001b[0;34m\u001b[0m\u001b[0m\n\u001b[0m\u001b[1;32m   1703\u001b[0m                 \u001b[0;32mraise\u001b[0m \u001b[0mchild_exception_type\u001b[0m\u001b[0;34m(\u001b[0m\u001b[0merr_msg\u001b[0m\u001b[0;34m)\u001b[0m\u001b[0;34m\u001b[0m\u001b[0;34m\u001b[0m\u001b[0m\n",
      "\u001b[0;31mFileNotFoundError\u001b[0m: [Errno 2] No such file or directory: 'chromedriver'",
      "\nDuring handling of the above exception, another exception occurred:\n",
      "\u001b[0;31mWebDriverException\u001b[0m                        Traceback (most recent call last)",
      "\u001b[0;32m<ipython-input-280-8cd610e34d1a>\u001b[0m in \u001b[0;36m<module>\u001b[0;34m\u001b[0m\n\u001b[1;32m      3\u001b[0m \u001b[0;31m# This starts an instance of the Chrome browser to be controlled\u001b[0m\u001b[0;34m\u001b[0m\u001b[0;34m\u001b[0m\u001b[0;34m\u001b[0m\u001b[0m\n\u001b[1;32m      4\u001b[0m \u001b[0;31m# by the selenium webdriver\u001b[0m\u001b[0;34m\u001b[0m\u001b[0;34m\u001b[0m\u001b[0;34m\u001b[0m\u001b[0m\n\u001b[0;32m----> 5\u001b[0;31m \u001b[0mdriver\u001b[0m \u001b[0;34m=\u001b[0m \u001b[0mwebdriver\u001b[0m\u001b[0;34m.\u001b[0m\u001b[0mChrome\u001b[0m\u001b[0;34m(\u001b[0m\u001b[0;34m)\u001b[0m\u001b[0;34m\u001b[0m\u001b[0;34m\u001b[0m\u001b[0m\n\u001b[0m\u001b[1;32m      6\u001b[0m \u001b[0;34m\u001b[0m\u001b[0m\n\u001b[1;32m      7\u001b[0m \u001b[0;31m# This is simply the driver getting the page\u001b[0m\u001b[0;34m\u001b[0m\u001b[0;34m\u001b[0m\u001b[0;34m\u001b[0m\u001b[0m\n",
      "\u001b[0;32m~/opt/miniconda3/lib/python3.8/site-packages/selenium/webdriver/chrome/webdriver.py\u001b[0m in \u001b[0;36m__init__\u001b[0;34m(self, executable_path, port, options, service_args, desired_capabilities, service_log_path, chrome_options, keep_alive)\u001b[0m\n\u001b[1;32m     71\u001b[0m             \u001b[0mservice_args\u001b[0m\u001b[0;34m=\u001b[0m\u001b[0mservice_args\u001b[0m\u001b[0;34m,\u001b[0m\u001b[0;34m\u001b[0m\u001b[0;34m\u001b[0m\u001b[0m\n\u001b[1;32m     72\u001b[0m             log_path=service_log_path)\n\u001b[0;32m---> 73\u001b[0;31m         \u001b[0mself\u001b[0m\u001b[0;34m.\u001b[0m\u001b[0mservice\u001b[0m\u001b[0;34m.\u001b[0m\u001b[0mstart\u001b[0m\u001b[0;34m(\u001b[0m\u001b[0;34m)\u001b[0m\u001b[0;34m\u001b[0m\u001b[0;34m\u001b[0m\u001b[0m\n\u001b[0m\u001b[1;32m     74\u001b[0m \u001b[0;34m\u001b[0m\u001b[0m\n\u001b[1;32m     75\u001b[0m         \u001b[0;32mtry\u001b[0m\u001b[0;34m:\u001b[0m\u001b[0;34m\u001b[0m\u001b[0;34m\u001b[0m\u001b[0m\n",
      "\u001b[0;32m~/opt/miniconda3/lib/python3.8/site-packages/selenium/webdriver/common/service.py\u001b[0m in \u001b[0;36mstart\u001b[0;34m(self)\u001b[0m\n\u001b[1;32m     79\u001b[0m         \u001b[0;32mexcept\u001b[0m \u001b[0mOSError\u001b[0m \u001b[0;32mas\u001b[0m \u001b[0merr\u001b[0m\u001b[0;34m:\u001b[0m\u001b[0;34m\u001b[0m\u001b[0;34m\u001b[0m\u001b[0m\n\u001b[1;32m     80\u001b[0m             \u001b[0;32mif\u001b[0m \u001b[0merr\u001b[0m\u001b[0;34m.\u001b[0m\u001b[0merrno\u001b[0m \u001b[0;34m==\u001b[0m \u001b[0merrno\u001b[0m\u001b[0;34m.\u001b[0m\u001b[0mENOENT\u001b[0m\u001b[0;34m:\u001b[0m\u001b[0;34m\u001b[0m\u001b[0;34m\u001b[0m\u001b[0m\n\u001b[0;32m---> 81\u001b[0;31m                 raise WebDriverException(\n\u001b[0m\u001b[1;32m     82\u001b[0m                     \"'%s' executable needs to be in PATH. %s\" % (\n\u001b[1;32m     83\u001b[0m                         os.path.basename(self.path), self.start_error_message)\n",
      "\u001b[0;31mWebDriverException\u001b[0m: Message: 'chromedriver' executable needs to be in PATH. Please see https://sites.google.com/a/chromium.org/chromedriver/home\n"
     ]
    }
   ],
   "source": [
    "url = 'https://factcheck.thedispatch.com/archive'\n",
    "\n",
    "# This starts an instance of the Chrome browser to be controlled\n",
    "# by the selenium webdriver\n",
    "driver = webdriver.Chrome()\n",
    " \n",
    "# This is simply the driver getting the page\n",
    "driver.get(url)\n",
    "\n",
    "# try-except acts as a loop that on each iteration is asking if more exists\n",
    "while True:\n",
    "    try:\n",
    "        loadmore = driver.find_element_by_id(\"bottomPager\")\n",
    "        loadmore.click()\n",
    "    except NoSuchElementException:\n",
    "        print(\"Reached bottom of page\")\n",
    "        break\n",
    "\n",
    "soup = BeautifulSoup(driver.page_source,'html.parser')\n",
    "\n",
    "# page = requests.get(url)\n",
    "\n",
    "# soup = BeautifulSoup(page.content, 'html.parser')\n",
    "\n",
    "urls = list()\n",
    "\n",
    "headlines = list()\n",
    "reviews = list()\n",
    "\n",
    "dates = list()\n",
    "\n",
    "feedpost = soup.find('div', attrs={'class': 'portable-archive-list'})\n",
    "cards = feedpost.find_all('div', {'class':'post-preview portable-archive-post has-image has-author-line'})\n",
    "for card in cards:\n",
    "    url = card.find(\"a\")['href']\n",
    "    urls.append(url)\n",
    "#     hl = card.find(\"a\").get_text()\n",
    "#     headlines.append(hl)\n",
    "    rev = card.find_all(\"a\")[1].get_text()\n",
    "    reviews.append(rev)\n",
    "    \n",
    "    page2 = requests.get(url)\n",
    "    soup2 = BeautifulSoup(page2.content, 'html.parser')\n",
    "    title = soup2.find(\"h1\").get_text()\n",
    "    headlines.append(title)\n",
    "    dt = soup2.find(\"table\").find('td', {'class': 'post-meta-item post-date'}).get_text()\n",
    "    dates.append(dt) # needs refactoring\n",
    "\n",
    "df = pd.DataFrame(list(zip(urls, headlines, dates, claims)), \n",
    "                   columns =['url', 'headline', 'review', 'date']) \n",
    "\n",
    "#df['date'] = df['date'].map(lambda dt_obj: datetime.strptime(dt_obj, '%Y/%m/%d').strftime('%d-%m-%Y'))\n"
   ]
  },
  {
   "cell_type": "code",
   "execution_count": 275,
   "id": "enclosed-mount",
   "metadata": {},
   "outputs": [
    {
     "data": {
      "text/html": [
       "<div>\n",
       "<style scoped>\n",
       "    .dataframe tbody tr th:only-of-type {\n",
       "        vertical-align: middle;\n",
       "    }\n",
       "\n",
       "    .dataframe tbody tr th {\n",
       "        vertical-align: top;\n",
       "    }\n",
       "\n",
       "    .dataframe thead th {\n",
       "        text-align: right;\n",
       "    }\n",
       "</style>\n",
       "<table border=\"1\" class=\"dataframe\">\n",
       "  <thead>\n",
       "    <tr style=\"text-align: right;\">\n",
       "      <th></th>\n",
       "      <th>url</th>\n",
       "      <th>headline</th>\n",
       "      <th>review</th>\n",
       "      <th>date</th>\n",
       "    </tr>\n",
       "  </thead>\n",
       "  <tbody>\n",
       "    <tr>\n",
       "      <th>0</th>\n",
       "      <td>https://factcheck.thedispatch.com/p/did-the-wa...</td>\n",
       "      <td>Did the Washington Post Correct a Report About...</td>\n",
       "      <td>13 hr ago</td>\n",
       "      <td>CLAIM: Video of President Joe Biden was digita...</td>\n",
       "    </tr>\n",
       "    <tr>\n",
       "      <th>1</th>\n",
       "      <td>https://factcheck.thedispatch.com/p/do-60-perc...</td>\n",
       "      <td>Do 60 Percent of Republicans Support the $1.9 ...</td>\n",
       "      <td>Mar 12</td>\n",
       "      <td>THE CLAIM: On Tuesday, hours before police say...</td>\n",
       "    </tr>\n",
       "    <tr>\n",
       "      <th>2</th>\n",
       "      <td>https://factcheck.thedispatch.com/p/did-a-cali...</td>\n",
       "      <td>Did a California Mayor Pro Tempore Plead Guilt...</td>\n",
       "      <td>Mar 11</td>\n",
       "      <td>As Congress considers a sweeping bid to overha...</td>\n",
       "    </tr>\n",
       "    <tr>\n",
       "      <th>3</th>\n",
       "      <td>https://factcheck.thedispatch.com/p/did-oprah-...</td>\n",
       "      <td>Did Oprah Winfrey ‘Pimp’ Young Girls to Convic...</td>\n",
       "      <td>Mar 11</td>\n",
       "      <td>CLAIM: COVID-19 vaccines contain aluminum, a t...</td>\n",
       "    </tr>\n",
       "    <tr>\n",
       "      <th>4</th>\n",
       "      <td>https://factcheck.thedispatch.com/p/is-the-eff...</td>\n",
       "      <td>Is the Effort to Recall Gavin Newsom About ‘Te...</td>\n",
       "      <td>Mar 9</td>\n",
       "      <td>CLAIM: Columbia University is holding separate...</td>\n",
       "    </tr>\n",
       "    <tr>\n",
       "      <th>5</th>\n",
       "      <td>https://factcheck.thedispatch.com/p/did-navy-s...</td>\n",
       "      <td>Did Navy SEALs Loyal to President Trump Arrest...</td>\n",
       "      <td>Mar 9</td>\n",
       "      <td>CLAIM: In all of 2020, there were only 9,000 i...</td>\n",
       "    </tr>\n",
       "    <tr>\n",
       "      <th>6</th>\n",
       "      <td>https://factcheck.thedispatch.com/p/was-the-cp...</td>\n",
       "      <td>Was the CPAC Stage Designed to Look Like Nazi ...</td>\n",
       "      <td>Mar 9</td>\n",
       "      <td>CLAIM: Photos showing gasoline listed at more ...</td>\n",
       "    </tr>\n",
       "    <tr>\n",
       "      <th>7</th>\n",
       "      <td>https://factcheck.thedispatch.com/p/did-evange...</td>\n",
       "      <td>Did Evangelical Leaders Pray Over the Golden T...</td>\n",
       "      <td>Mar 2</td>\n",
       "      <td>CLAIM: President Joe Biden is not screening im...</td>\n",
       "    </tr>\n",
       "    <tr>\n",
       "      <th>8</th>\n",
       "      <td>https://factcheck.thedispatch.com/p/did-merric...</td>\n",
       "      <td>Did Merrick Garland Deny Antifa Attacks Were D...</td>\n",
       "      <td>Mar 1</td>\n",
       "      <td>CLAIM: If you receive the COVID-19 vaccine and...</td>\n",
       "    </tr>\n",
       "    <tr>\n",
       "      <th>9</th>\n",
       "      <td>https://factcheck.thedispatch.com/p/did-joe-bi...</td>\n",
       "      <td>Did Joe Biden Revoke the Keystone Pipeline Per...</td>\n",
       "      <td>Mar 1</td>\n",
       "      <td>CLAIM: An image shows the first photograph eve...</td>\n",
       "    </tr>\n",
       "    <tr>\n",
       "      <th>10</th>\n",
       "      <td>https://factcheck.thedispatch.com/p/does-mask-...</td>\n",
       "      <td>Does Mask-Wearing Cause Hypoxia or Pneumonia?</td>\n",
       "      <td>Mar 1</td>\n",
       "      <td>A video making the rounds on social media is s...</td>\n",
       "    </tr>\n",
       "    <tr>\n",
       "      <th>11</th>\n",
       "      <td>https://factcheck.thedispatch.com/p/does-a-rep...</td>\n",
       "      <td>Does a Report Prove That Dominion Voting Machi...</td>\n",
       "      <td>Mar 1</td>\n",
       "      <td>CLAIM: “Illegal aliens” will receive a $1,400 ...</td>\n",
       "    </tr>\n",
       "  </tbody>\n",
       "</table>\n",
       "</div>"
      ],
      "text/plain": [
       "                                                  url  \\\n",
       "0   https://factcheck.thedispatch.com/p/did-the-wa...   \n",
       "1   https://factcheck.thedispatch.com/p/do-60-perc...   \n",
       "2   https://factcheck.thedispatch.com/p/did-a-cali...   \n",
       "3   https://factcheck.thedispatch.com/p/did-oprah-...   \n",
       "4   https://factcheck.thedispatch.com/p/is-the-eff...   \n",
       "5   https://factcheck.thedispatch.com/p/did-navy-s...   \n",
       "6   https://factcheck.thedispatch.com/p/was-the-cp...   \n",
       "7   https://factcheck.thedispatch.com/p/did-evange...   \n",
       "8   https://factcheck.thedispatch.com/p/did-merric...   \n",
       "9   https://factcheck.thedispatch.com/p/did-joe-bi...   \n",
       "10  https://factcheck.thedispatch.com/p/does-mask-...   \n",
       "11  https://factcheck.thedispatch.com/p/does-a-rep...   \n",
       "\n",
       "                                             headline     review  \\\n",
       "0   Did the Washington Post Correct a Report About...  13 hr ago   \n",
       "1   Do 60 Percent of Republicans Support the $1.9 ...     Mar 12   \n",
       "2   Did a California Mayor Pro Tempore Plead Guilt...     Mar 11   \n",
       "3   Did Oprah Winfrey ‘Pimp’ Young Girls to Convic...     Mar 11   \n",
       "4   Is the Effort to Recall Gavin Newsom About ‘Te...      Mar 9   \n",
       "5   Did Navy SEALs Loyal to President Trump Arrest...      Mar 9   \n",
       "6   Was the CPAC Stage Designed to Look Like Nazi ...      Mar 9   \n",
       "7   Did Evangelical Leaders Pray Over the Golden T...      Mar 2   \n",
       "8   Did Merrick Garland Deny Antifa Attacks Were D...      Mar 1   \n",
       "9   Did Joe Biden Revoke the Keystone Pipeline Per...      Mar 1   \n",
       "10      Does Mask-Wearing Cause Hypoxia or Pneumonia?      Mar 1   \n",
       "11  Does a Report Prove That Dominion Voting Machi...      Mar 1   \n",
       "\n",
       "                                                 date  \n",
       "0   CLAIM: Video of President Joe Biden was digita...  \n",
       "1   THE CLAIM: On Tuesday, hours before police say...  \n",
       "2   As Congress considers a sweeping bid to overha...  \n",
       "3   CLAIM: COVID-19 vaccines contain aluminum, a t...  \n",
       "4   CLAIM: Columbia University is holding separate...  \n",
       "5   CLAIM: In all of 2020, there were only 9,000 i...  \n",
       "6   CLAIM: Photos showing gasoline listed at more ...  \n",
       "7   CLAIM: President Joe Biden is not screening im...  \n",
       "8   CLAIM: If you receive the COVID-19 vaccine and...  \n",
       "9   CLAIM: An image shows the first photograph eve...  \n",
       "10  A video making the rounds on social media is s...  \n",
       "11  CLAIM: “Illegal aliens” will receive a $1,400 ...  "
      ]
     },
     "execution_count": 275,
     "metadata": {},
     "output_type": "execute_result"
    }
   ],
   "source": [
    "df"
   ]
  },
  {
   "cell_type": "code",
   "execution_count": 254,
   "id": "tired-lingerie",
   "metadata": {},
   "outputs": [],
   "source": [
    "url = 'https://factcheck.thedispatch.com/archive'\n",
    "\n",
    "page = requests.get(url)\n",
    "\n",
    "soup = BeautifulSoup(page.content, 'html.parser')\n",
    "\n",
    "urls = list()\n",
    "# base_url = 'https://checkyourfact.com'\n",
    "\n",
    "headlines = list()\n",
    "\n",
    "dates = list()\n",
    "\n",
    "feedpost = soup.find('div', attrs={'class': 'portable-archive-list'})\n",
    "cards = feedpost.find_all('div', {'class':'post-preview portable-archive-post has-image has-author-line'})"
   ]
  },
  {
   "cell_type": "code",
   "execution_count": 262,
   "id": "primary-disclosure",
   "metadata": {},
   "outputs": [
    {
     "data": {
      "text/plain": [
       "'https://factcheck.thedispatch.com/p/did-the-washington-post-correct-a'"
      ]
     },
     "execution_count": 262,
     "metadata": {},
     "output_type": "execute_result"
    }
   ],
   "source": [
    "#feedpost\n",
    "\n",
    "cards[0].find(\"a\")['href']"
   ]
  },
  {
   "cell_type": "code",
   "execution_count": 263,
   "id": "sexual-feeding",
   "metadata": {},
   "outputs": [
    {
     "data": {
      "text/plain": [
       "'Did the Washington Post Correct a Report About Trump’s Call With the Georgia Secretary of State?'"
      ]
     },
     "execution_count": 263,
     "metadata": {},
     "output_type": "execute_result"
    }
   ],
   "source": [
    "url = 'https://factcheck.thedispatch.com/p/did-the-washington-post-correct-a'\n",
    "page2 = requests.get(url)\n",
    "soup2 = BeautifulSoup(page2.content, 'html.parser')\n",
    "title = soup2.find(\"h1\").get_text()\n",
    "dt = soup2.find(\"table\").find('td', {'class': 'post-meta-item post-date'}).get_text()"
   ]
  },
  {
   "cell_type": "code",
   "execution_count": 272,
   "id": "tested-carpet",
   "metadata": {},
   "outputs": [
    {
     "data": {
      "text/plain": [
       "'13 hr ago'"
      ]
     },
     "execution_count": 272,
     "metadata": {},
     "output_type": "execute_result"
    }
   ],
   "source": [
    "soup2.find(\"table\").find('td', {'class': 'post-meta-item post-date'}).get_text()"
   ]
  },
  {
   "cell_type": "code",
   "execution_count": 240,
   "id": "distinct-truck",
   "metadata": {},
   "outputs": [
    {
     "data": {
      "text/plain": [
       "'FACT CHECK: Does This Image Show An Alert From The United Nations Warning Of Organ Trafficking In The Middle East?'"
      ]
     },
     "execution_count": 240,
     "metadata": {},
     "output_type": "execute_result"
    }
   ],
   "source": [
    "# feedpost\n",
    "\n",
    "# feedpost.find('features').find_all(\"a\")[0]\n",
    "\n",
    "feedpost = soup.find('atom')\n",
    "cards = feedpost.find('articles').find_all(\"a\")\n",
    "cards[0].find(\"name\").get_text()\n",
    "\n",
    "\n",
    "# feedpost.find('articles')"
   ]
  },
  {
   "cell_type": "code",
   "execution_count": 213,
   "id": "vulnerable-concord",
   "metadata": {},
   "outputs": [
    {
     "data": {
      "text/plain": [
       "'17-03-2021'"
      ]
     },
     "execution_count": 213,
     "metadata": {},
     "output_type": "execute_result"
    }
   ],
   "source": [
    "dt_obj = cards[0]['href'][1:11] #[1].get_text() #.find(\"title\").get_text()\n",
    "\n",
    "datetime.strptime(dt_obj, '%Y/%m/%d').strftime('%d-%m-%Y')"
   ]
  },
  {
   "cell_type": "code",
   "execution_count": 218,
   "id": "transsexual-reply",
   "metadata": {},
   "outputs": [
    {
     "data": {
      "text/plain": [
       "'https://checkyourfact.com/'"
      ]
     },
     "execution_count": 218,
     "metadata": {},
     "output_type": "execute_result"
    }
   ],
   "source": [
    "url[0:26]"
   ]
  },
  {
   "cell_type": "code",
   "execution_count": 176,
   "id": "floating-helena",
   "metadata": {},
   "outputs": [
    {
     "data": {
      "text/html": [
       "<div>\n",
       "<style scoped>\n",
       "    .dataframe tbody tr th:only-of-type {\n",
       "        vertical-align: middle;\n",
       "    }\n",
       "\n",
       "    .dataframe tbody tr th {\n",
       "        vertical-align: top;\n",
       "    }\n",
       "\n",
       "    .dataframe thead th {\n",
       "        text-align: right;\n",
       "    }\n",
       "</style>\n",
       "<table border=\"1\" class=\"dataframe\">\n",
       "  <thead>\n",
       "    <tr style=\"text-align: right;\">\n",
       "      <th></th>\n",
       "      <th>url</th>\n",
       "      <th>headline</th>\n",
       "      <th>date</th>\n",
       "      <th>claim</th>\n",
       "    </tr>\n",
       "  </thead>\n",
       "  <tbody>\n",
       "    <tr>\n",
       "      <th>0</th>\n",
       "      <td>https://apnews.com/article/fact-checking-afs:C...</td>\n",
       "      <td>Video of Biden with reporters was not digitall...</td>\n",
       "      <td>March 17, 2021 GMT</td>\n",
       "      <td>CLAIM: Video of President Joe Biden was digita...</td>\n",
       "    </tr>\n",
       "    <tr>\n",
       "      <th>1</th>\n",
       "      <td>https://apnews.com/article/fact-checking-afs:C...</td>\n",
       "      <td>Racist Facebook post attributed to Atlanta sho...</td>\n",
       "      <td>March 17, 2021 GMT</td>\n",
       "      <td>THE CLAIM: On Tuesday, hours before police say...</td>\n",
       "    </tr>\n",
       "    <tr>\n",
       "      <th>2</th>\n",
       "      <td>https://apnews.com/article/fact-checking-afs:C...</td>\n",
       "      <td>Misleading claims swirl around US election ove...</td>\n",
       "      <td>March 17, 2021 GMT</td>\n",
       "      <td>As Congress considers a sweeping bid to overha...</td>\n",
       "    </tr>\n",
       "    <tr>\n",
       "      <th>3</th>\n",
       "      <td>https://apnews.com/article/fact-checking-afs:C...</td>\n",
       "      <td>US and EU COVID vaccines don’t contain aluminum</td>\n",
       "      <td>March 16, 2021 GMT</td>\n",
       "      <td>CLAIM: COVID-19 vaccines contain aluminum, a t...</td>\n",
       "    </tr>\n",
       "    <tr>\n",
       "      <th>4</th>\n",
       "      <td>https://apnews.com/article/fact-checking-afs:C...</td>\n",
       "      <td>Columbia University holds a main graduation, a...</td>\n",
       "      <td>March 16, 2021 GMT</td>\n",
       "      <td>CLAIM: Columbia University is holding separate...</td>\n",
       "    </tr>\n",
       "  </tbody>\n",
       "</table>\n",
       "</div>"
      ],
      "text/plain": [
       "                                                 url  \\\n",
       "0  https://apnews.com/article/fact-checking-afs:C...   \n",
       "1  https://apnews.com/article/fact-checking-afs:C...   \n",
       "2  https://apnews.com/article/fact-checking-afs:C...   \n",
       "3  https://apnews.com/article/fact-checking-afs:C...   \n",
       "4  https://apnews.com/article/fact-checking-afs:C...   \n",
       "\n",
       "                                            headline                date  \\\n",
       "0  Video of Biden with reporters was not digitall...  March 17, 2021 GMT   \n",
       "1  Racist Facebook post attributed to Atlanta sho...  March 17, 2021 GMT   \n",
       "2  Misleading claims swirl around US election ove...  March 17, 2021 GMT   \n",
       "3    US and EU COVID vaccines don’t contain aluminum  March 16, 2021 GMT   \n",
       "4  Columbia University holds a main graduation, a...  March 16, 2021 GMT   \n",
       "\n",
       "                                               claim  \n",
       "0  CLAIM: Video of President Joe Biden was digita...  \n",
       "1  THE CLAIM: On Tuesday, hours before police say...  \n",
       "2  As Congress considers a sweeping bid to overha...  \n",
       "3  CLAIM: COVID-19 vaccines contain aluminum, a t...  \n",
       "4  CLAIM: Columbia University is holding separate...  "
      ]
     },
     "execution_count": 176,
     "metadata": {},
     "output_type": "execute_result"
    }
   ],
   "source": [
    "df = pd.DataFrame(list(zip(urls, headlines, dates, claims)), \n",
    "                   columns =['url', 'headline', 'date', 'claim']) \n",
    "\n",
    "df.head()"
   ]
  },
  {
   "cell_type": "code",
   "execution_count": 177,
   "id": "developmental-tuition",
   "metadata": {},
   "outputs": [],
   "source": []
  },
  {
   "cell_type": "code",
   "execution_count": 182,
   "id": "desirable-tunisia",
   "metadata": {},
   "outputs": [
    {
     "data": {
      "text/plain": [
       "'March 17, 2021 GMT'"
      ]
     },
     "execution_count": 182,
     "metadata": {},
     "output_type": "execute_result"
    }
   ],
   "source": [
    "temp_dt = df.date[0]\n",
    "temp_dt"
   ]
  },
  {
   "cell_type": "code",
   "execution_count": 187,
   "id": "martial-rehabilitation",
   "metadata": {},
   "outputs": [
    {
     "data": {
      "text/plain": [
       "'17-03-2021'"
      ]
     },
     "execution_count": 187,
     "metadata": {},
     "output_type": "execute_result"
    }
   ],
   "source": [
    "dt_obj = datetime.strptime(temp_dt, '%B %d, %Y %Z')\n",
    "dt_obj.strftime('%d-%m-%Y')"
   ]
  },
  {
   "cell_type": "code",
   "execution_count": 190,
   "id": "precise-brave",
   "metadata": {},
   "outputs": [
    {
     "data": {
      "text/html": [
       "<div>\n",
       "<style scoped>\n",
       "    .dataframe tbody tr th:only-of-type {\n",
       "        vertical-align: middle;\n",
       "    }\n",
       "\n",
       "    .dataframe tbody tr th {\n",
       "        vertical-align: top;\n",
       "    }\n",
       "\n",
       "    .dataframe thead th {\n",
       "        text-align: right;\n",
       "    }\n",
       "</style>\n",
       "<table border=\"1\" class=\"dataframe\">\n",
       "  <thead>\n",
       "    <tr style=\"text-align: right;\">\n",
       "      <th></th>\n",
       "      <th>url</th>\n",
       "      <th>headline</th>\n",
       "      <th>date</th>\n",
       "      <th>claim</th>\n",
       "      <th>date2</th>\n",
       "    </tr>\n",
       "  </thead>\n",
       "  <tbody>\n",
       "    <tr>\n",
       "      <th>0</th>\n",
       "      <td>https://apnews.com/article/fact-checking-afs:C...</td>\n",
       "      <td>Video of Biden with reporters was not digitall...</td>\n",
       "      <td>March 17, 2021 GMT</td>\n",
       "      <td>CLAIM: Video of President Joe Biden was digita...</td>\n",
       "      <td>17-03-2021</td>\n",
       "    </tr>\n",
       "    <tr>\n",
       "      <th>1</th>\n",
       "      <td>https://apnews.com/article/fact-checking-afs:C...</td>\n",
       "      <td>Racist Facebook post attributed to Atlanta sho...</td>\n",
       "      <td>March 17, 2021 GMT</td>\n",
       "      <td>THE CLAIM: On Tuesday, hours before police say...</td>\n",
       "      <td>17-03-2021</td>\n",
       "    </tr>\n",
       "    <tr>\n",
       "      <th>2</th>\n",
       "      <td>https://apnews.com/article/fact-checking-afs:C...</td>\n",
       "      <td>Misleading claims swirl around US election ove...</td>\n",
       "      <td>March 17, 2021 GMT</td>\n",
       "      <td>As Congress considers a sweeping bid to overha...</td>\n",
       "      <td>17-03-2021</td>\n",
       "    </tr>\n",
       "    <tr>\n",
       "      <th>3</th>\n",
       "      <td>https://apnews.com/article/fact-checking-afs:C...</td>\n",
       "      <td>US and EU COVID vaccines don’t contain aluminum</td>\n",
       "      <td>March 16, 2021 GMT</td>\n",
       "      <td>CLAIM: COVID-19 vaccines contain aluminum, a t...</td>\n",
       "      <td>16-03-2021</td>\n",
       "    </tr>\n",
       "    <tr>\n",
       "      <th>4</th>\n",
       "      <td>https://apnews.com/article/fact-checking-afs:C...</td>\n",
       "      <td>Columbia University holds a main graduation, a...</td>\n",
       "      <td>March 16, 2021 GMT</td>\n",
       "      <td>CLAIM: Columbia University is holding separate...</td>\n",
       "      <td>16-03-2021</td>\n",
       "    </tr>\n",
       "  </tbody>\n",
       "</table>\n",
       "</div>"
      ],
      "text/plain": [
       "                                                 url  \\\n",
       "0  https://apnews.com/article/fact-checking-afs:C...   \n",
       "1  https://apnews.com/article/fact-checking-afs:C...   \n",
       "2  https://apnews.com/article/fact-checking-afs:C...   \n",
       "3  https://apnews.com/article/fact-checking-afs:C...   \n",
       "4  https://apnews.com/article/fact-checking-afs:C...   \n",
       "\n",
       "                                            headline                date  \\\n",
       "0  Video of Biden with reporters was not digitall...  March 17, 2021 GMT   \n",
       "1  Racist Facebook post attributed to Atlanta sho...  March 17, 2021 GMT   \n",
       "2  Misleading claims swirl around US election ove...  March 17, 2021 GMT   \n",
       "3    US and EU COVID vaccines don’t contain aluminum  March 16, 2021 GMT   \n",
       "4  Columbia University holds a main graduation, a...  March 16, 2021 GMT   \n",
       "\n",
       "                                               claim       date2  \n",
       "0  CLAIM: Video of President Joe Biden was digita...  17-03-2021  \n",
       "1  THE CLAIM: On Tuesday, hours before police say...  17-03-2021  \n",
       "2  As Congress considers a sweeping bid to overha...  17-03-2021  \n",
       "3  CLAIM: COVID-19 vaccines contain aluminum, a t...  16-03-2021  \n",
       "4  CLAIM: Columbia University is holding separate...  16-03-2021  "
      ]
     },
     "execution_count": 190,
     "metadata": {},
     "output_type": "execute_result"
    }
   ],
   "source": [
    "df['date'] = df['date'].map(lambda dt_obj: datetime.strptime(dt_obj, '%B %d, %Y %Z').strftime('%d-%m-%Y'))\n",
    "\n"
   ]
  },
  {
   "cell_type": "code",
   "execution_count": null,
   "id": "phantom-martial",
   "metadata": {},
   "outputs": [],
   "source": []
  }
 ],
 "metadata": {
  "kernelspec": {
   "display_name": "Python 3",
   "language": "python",
   "name": "python3"
  },
  "language_info": {
   "codemirror_mode": {
    "name": "ipython",
    "version": 3
   },
   "file_extension": ".py",
   "mimetype": "text/x-python",
   "name": "python",
   "nbconvert_exporter": "python",
   "pygments_lexer": "ipython3",
   "version": "3.8.5"
  }
 },
 "nbformat": 4,
 "nbformat_minor": 5
}
